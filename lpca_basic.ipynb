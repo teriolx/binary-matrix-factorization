{
 "cells": [
  {
   "cell_type": "code",
   "execution_count": null,
   "metadata": {},
   "outputs": [],
   "source": [
    "import numpy as np\n",
    "import scipy as sp\n",
    "import scipy.sparse, scipy.io,  scipy.optimize\n",
    "from scipy.special import expit\n",
    "from common import construct_adjacency_matrix\n",
    "from lpca import decomposition_at_k\n",
    "from tqdm import tqdm\n",
    "import pandas as pd"
   ]
  },
  {
   "cell_type": "code",
   "execution_count": null,
   "metadata": {},
   "outputs": [],
   "source": [
    "def decompose_all_at_k(data, k, save_dir=None):\n",
    "    results = []\n",
    "    for i in tqdm(range(len(data))):\n",
    "        A = sp.sparse.csr_matrix(construct_adjacency_matrix(data[i]))\n",
    "        file_path = save_dir + f'idx_{i}.mat' if save_dir is not None else None\n",
    "\n",
    "        t, error, nit = decomposition_at_k(A, k, file_path)\n",
    "        results.append(\n",
    "            {\n",
    "                \"graph_id\": i,\n",
    "                \"n_nodes\": data[i].x.shape[0],\n",
    "                \"nit\": nit,\n",
    "                \"error\": error,\n",
    "                \"time\": t\n",
    "            }\n",
    "        )\n",
    "    \n",
    "    return results"
   ]
  },
  {
   "cell_type": "markdown",
   "metadata": {},
   "source": [
    "# Peptides"
   ]
  },
  {
   "cell_type": "code",
   "execution_count": 4,
   "metadata": {},
   "outputs": [
    {
     "name": "stderr",
     "output_type": "stream",
     "text": [
      "/home/tolsi/miniconda3/envs/thesis/lib/python3.10/site-packages/torch_geometric/data/dataset.py:238: FutureWarning: You are using `torch.load` with `weights_only=False` (the current default value), which uses the default pickle module implicitly. It is possible to construct malicious pickle data which will execute arbitrary code during unpickling (See https://github.com/pytorch/pytorch/blob/main/SECURITY.md#untrusted-models for more details). In a future release, the default value for `weights_only` will be flipped to `True`. This limits the functions that could be executed during unpickling. Arbitrary objects will no longer be allowed to be loaded via this mode unless they are explicitly allowlisted by the user via `torch.serialization.add_safe_globals`. We recommend you start setting `weights_only=True` for any use case where you don't have full control of the loaded file. Please open an issue on GitHub for any issues related to this experimental feature.\n",
      "  if osp.exists(f) and torch.load(f) != _repr(self.pre_transform):\n",
      "/home/tolsi/miniconda3/envs/thesis/lib/python3.10/site-packages/torch_geometric/data/dataset.py:246: FutureWarning: You are using `torch.load` with `weights_only=False` (the current default value), which uses the default pickle module implicitly. It is possible to construct malicious pickle data which will execute arbitrary code during unpickling (See https://github.com/pytorch/pytorch/blob/main/SECURITY.md#untrusted-models for more details). In a future release, the default value for `weights_only` will be flipped to `True`. This limits the functions that could be executed during unpickling. Arbitrary objects will no longer be allowed to be loaded via this mode unless they are explicitly allowlisted by the user via `torch.serialization.add_safe_globals`. We recommend you start setting `weights_only=True` for any use case where you don't have full control of the loaded file. Please open an issue on GitHub for any issues related to this experimental feature.\n",
      "  if osp.exists(f) and torch.load(f) != _repr(self.pre_filter):\n",
      "/home/tolsi/miniconda3/envs/thesis/lib/python3.10/site-packages/torch_geometric/io/fs.py:215: FutureWarning: You are using `torch.load` with `weights_only=False` (the current default value), which uses the default pickle module implicitly. It is possible to construct malicious pickle data which will execute arbitrary code during unpickling (See https://github.com/pytorch/pytorch/blob/main/SECURITY.md#untrusted-models for more details). In a future release, the default value for `weights_only` will be flipped to `True`. This limits the functions that could be executed during unpickling. Arbitrary objects will no longer be allowed to be loaded via this mode unless they are explicitly allowlisted by the user via `torch.serialization.add_safe_globals`. We recommend you start setting `weights_only=True` for any use case where you don't have full control of the loaded file. Please open an issue on GitHub for any issues related to this experimental feature.\n",
      "  return torch.load(f, map_location)\n"
     ]
    }
   ],
   "source": [
    "from torch_geometric.datasets import LRGBDataset\n",
    "\n",
    "# here we have the name parameter because LRGB has multiple benchmarks.\n",
    "# for now lets focus on peptides-func\n",
    "data_peptides = LRGBDataset(name='Peptides-func', root='data', split='train')"
   ]
  },
  {
   "cell_type": "code",
   "execution_count": 5,
   "metadata": {},
   "outputs": [
    {
     "name": "stderr",
     "output_type": "stream",
     "text": [
      "100%|██████████| 10873/10873 [3:12:56<00:00,  1.06s/it]  \n"
     ]
    }
   ],
   "source": [
    "r = decompose_all_at_k(data_peptides, 8)\n",
    "pd.DataFrame(r).to_parquet('results/peptides_LPCA_k_8.parquet')"
   ]
  },
  {
   "cell_type": "code",
   "execution_count": 5,
   "metadata": {},
   "outputs": [
    {
     "name": "stderr",
     "output_type": "stream",
     "text": [
      "100%|██████████| 10873/10873 [3:19:34<00:00,  1.10s/it]  \n"
     ]
    }
   ],
   "source": [
    "r = decompose_all_at_k(data_peptides, 16)\n",
    "pd.DataFrame(r).to_parquet('results/peptides_LPCA_k_16.parquet')"
   ]
  },
  {
   "cell_type": "code",
   "execution_count": 6,
   "metadata": {},
   "outputs": [
    {
     "name": "stderr",
     "output_type": "stream",
     "text": [
      "100%|██████████| 10873/10873 [8:16:16<00:00,  2.74s/it]  \n"
     ]
    }
   ],
   "source": [
    "r = decompose_all_at_k(data_peptides, 32)\n",
    "pd.DataFrame(r).to_parquet('results/peptides_LPCA_k_32.parquet')"
   ]
  },
  {
   "cell_type": "code",
   "execution_count": null,
   "metadata": {},
   "outputs": [
    {
     "name": "stderr",
     "output_type": "stream",
     "text": [
      " 47%|████▋     | 5077/10873 [6:04:45<5:00:15,  3.11s/it] "
     ]
    }
   ],
   "source": [
    "r = decompose_all_at_k(data_peptides, 64)\n",
    "pd.DataFrame(r).to_parquet('results/peptides_LPCA_k_64.parquet')"
   ]
  },
  {
   "cell_type": "code",
   "execution_count": null,
   "metadata": {},
   "outputs": [],
   "source": [
    "r = decompose_all_at_k(data_peptides, 5)\n",
    "pd.DataFrame(r).to_parquet('results/peptides_LPCA_k_5.parquet')"
   ]
  },
  {
   "cell_type": "code",
   "execution_count": null,
   "metadata": {},
   "outputs": [],
   "source": [
    "r = decompose_all_at_k(data_peptides, 4)\n",
    "pd.DataFrame(r).to_parquet('results/peptides_LPCA_k_4.parquet')"
   ]
  },
  {
   "cell_type": "code",
   "execution_count": null,
   "metadata": {},
   "outputs": [],
   "source": [
    "r = decompose_all_at_k(data_peptides, 3)\n",
    "pd.DataFrame(r).to_parquet('results/peptides_LPCA_k_3.parquet')"
   ]
  },
  {
   "cell_type": "code",
   "execution_count": null,
   "metadata": {},
   "outputs": [],
   "source": [
    "r = decompose_all_at_k(data_peptides, 2)\n",
    "pd.DataFrame(r).to_parquet('results/peptides_LPCA_k_2.parquet')"
   ]
  },
  {
   "cell_type": "code",
   "execution_count": null,
   "metadata": {},
   "outputs": [],
   "source": [
    "r = decompose_all_at_k(data_peptides, 1)\n",
    "pd.DataFrame(r).to_parquet('results/peptides_LPCA_k_1.parquet')"
   ]
  },
  {
   "cell_type": "markdown",
   "metadata": {},
   "source": [
    "# ZINC"
   ]
  },
  {
   "cell_type": "code",
   "execution_count": 4,
   "metadata": {},
   "outputs": [
    {
     "name": "stderr",
     "output_type": "stream",
     "text": [
      "/home/tolsi/miniconda3/envs/thesis/lib/python3.10/site-packages/torch_geometric/data/dataset.py:238: FutureWarning: You are using `torch.load` with `weights_only=False` (the current default value), which uses the default pickle module implicitly. It is possible to construct malicious pickle data which will execute arbitrary code during unpickling (See https://github.com/pytorch/pytorch/blob/main/SECURITY.md#untrusted-models for more details). In a future release, the default value for `weights_only` will be flipped to `True`. This limits the functions that could be executed during unpickling. Arbitrary objects will no longer be allowed to be loaded via this mode unless they are explicitly allowlisted by the user via `torch.serialization.add_safe_globals`. We recommend you start setting `weights_only=True` for any use case where you don't have full control of the loaded file. Please open an issue on GitHub for any issues related to this experimental feature.\n",
      "  if osp.exists(f) and torch.load(f) != _repr(self.pre_transform):\n",
      "/home/tolsi/miniconda3/envs/thesis/lib/python3.10/site-packages/torch_geometric/data/dataset.py:246: FutureWarning: You are using `torch.load` with `weights_only=False` (the current default value), which uses the default pickle module implicitly. It is possible to construct malicious pickle data which will execute arbitrary code during unpickling (See https://github.com/pytorch/pytorch/blob/main/SECURITY.md#untrusted-models for more details). In a future release, the default value for `weights_only` will be flipped to `True`. This limits the functions that could be executed during unpickling. Arbitrary objects will no longer be allowed to be loaded via this mode unless they are explicitly allowlisted by the user via `torch.serialization.add_safe_globals`. We recommend you start setting `weights_only=True` for any use case where you don't have full control of the loaded file. Please open an issue on GitHub for any issues related to this experimental feature.\n",
      "  if osp.exists(f) and torch.load(f) != _repr(self.pre_filter):\n",
      "/home/tolsi/miniconda3/envs/thesis/lib/python3.10/site-packages/torch_geometric/io/fs.py:215: FutureWarning: You are using `torch.load` with `weights_only=False` (the current default value), which uses the default pickle module implicitly. It is possible to construct malicious pickle data which will execute arbitrary code during unpickling (See https://github.com/pytorch/pytorch/blob/main/SECURITY.md#untrusted-models for more details). In a future release, the default value for `weights_only` will be flipped to `True`. This limits the functions that could be executed during unpickling. Arbitrary objects will no longer be allowed to be loaded via this mode unless they are explicitly allowlisted by the user via `torch.serialization.add_safe_globals`. We recommend you start setting `weights_only=True` for any use case where you don't have full control of the loaded file. Please open an issue on GitHub for any issues related to this experimental feature.\n",
      "  return torch.load(f, map_location)\n"
     ]
    }
   ],
   "source": [
    "from torch_geometric.datasets import ZINC\n",
    "\n",
    "# subset=True selects the small version of the dataset\n",
    "# the split parameter chooses between the test/train/validation sets\n",
    "# for the SVD analysis its probably best to just use train as its the largest.\n",
    "data_zinc = ZINC(subset=True, root='data', split='train')"
   ]
  },
  {
   "cell_type": "code",
   "execution_count": 5,
   "metadata": {},
   "outputs": [
    {
     "name": "stderr",
     "output_type": "stream",
     "text": [
      "100%|██████████| 10000/10000 [07:11<00:00, 23.20it/s]\n"
     ]
    }
   ],
   "source": [
    "r = decompose_all_at_k(data_zinc, 8)\n",
    "pd.DataFrame(r).to_parquet('results/zinc_LPCA_k_8.parquet')"
   ]
  },
  {
   "cell_type": "code",
   "execution_count": null,
   "metadata": {},
   "outputs": [],
   "source": [
    "r = decompose_all_at_k(data_zinc[:2], 8, 'lpca_out/ZINC/k8/')\n",
    "pd.DataFrame(r).to_parquet('results/zinc_LPCA_k_8_save.parquet')"
   ]
  },
  {
   "cell_type": "code",
   "execution_count": 5,
   "metadata": {},
   "outputs": [
    {
     "name": "stderr",
     "output_type": "stream",
     "text": [
      "100%|██████████| 10000/10000 [2:37:58<00:00,  1.05it/s] \n"
     ]
    }
   ],
   "source": [
    "r = decompose_all_at_k(data_zinc, 4)\n",
    "pd.DataFrame(r).to_parquet('results/zinc_LPCA_k_4.parquet')"
   ]
  },
  {
   "cell_type": "code",
   "execution_count": null,
   "metadata": {},
   "outputs": [
    {
     "name": "stderr",
     "output_type": "stream",
     "text": [
      " 94%|█████████▍| 9443/10000 [3:29:23<34:42,  3.74s/it]  "
     ]
    }
   ],
   "source": [
    "r = decompose_all_at_k(data_zinc, 2)\n",
    "pd.DataFrame(r).to_parquet('results/zinc_LPCA_k_2.parquet')"
   ]
  },
  {
   "cell_type": "code",
   "execution_count": 39,
   "metadata": {},
   "outputs": [],
   "source": [
    "rank = 128\n",
    "factor_file_path = 'cora_embed.mat'\n",
    "n_row, _ = adj.shape\n",
    "factors = -1+2*np.random.random(size=2*n_row*rank) # initalize uniformly on [-1,+1]"
   ]
  },
  {
   "cell_type": "code",
   "execution_count": 40,
   "metadata": {},
   "outputs": [
    {
     "data": {
      "text/plain": [
       "array([-0.17865754, -0.07342302, -0.5952844 , ...,  0.22247348,\n",
       "        0.02947601, -0.0844943 ], shape=(113664,))"
      ]
     },
     "execution_count": 40,
     "metadata": {},
     "output_type": "execute_result"
    }
   ],
   "source": [
    "factors"
   ]
  },
  {
   "cell_type": "code",
   "execution_count": 41,
   "metadata": {},
   "outputs": [
    {
     "name": "stdout",
     "output_type": "stream",
     "text": [
      "(113664,)\n",
      "(444, 444)\n",
      "330156.12584004266\n",
      "(113664,)\n",
      "(444, 444)\n",
      "326422.32056983304\n",
      "(113664,)\n",
      "(444, 444)\n",
      "311908.3372660775\n",
      "(113664,)\n",
      "(444, 444)\n",
      "260631.6406976899\n",
      "(113664,)\n",
      "(444, 444)\n",
      "6464.066263352558\n",
      "(113664,)\n",
      "(444, 444)\n",
      "4754.760430899306\n",
      "(113664,)\n",
      "(444, 444)\n",
      "4066.798374638251\n",
      "(113664,)\n",
      "(444, 444)\n",
      "2973.6031012981157\n",
      "(113664,)\n",
      "(444, 444)\n",
      "2232.887018769906\n",
      "(113664,)\n",
      "(444, 444)\n",
      "1963.1895472262245\n",
      "(113664,)\n",
      "(444, 444)\n",
      "1112.5997136021797\n",
      "(113664,)\n",
      "(444, 444)\n",
      "465.2346669371524\n",
      "(113664,)\n",
      "(444, 444)\n",
      "234.67459625099787\n",
      "(113664,)\n",
      "(444, 444)\n",
      "156.74840432278904\n",
      "(113664,)\n",
      "(444, 444)\n",
      "79.76744802974676\n",
      "(113664,)\n",
      "(444, 444)\n",
      "39.646016010354614\n",
      "(113664,)\n",
      "(444, 444)\n",
      "18.707774651381836\n",
      "(113664,)\n",
      "(444, 444)\n",
      "7.231228037154519\n",
      "(113664,)\n",
      "(444, 444)\n",
      "4.814703330332533\n",
      "(113664,)\n",
      "(444, 444)\n",
      "2.0004991772847744\n",
      "(113664,)\n",
      "(444, 444)\n",
      "0.8066557878940305\n",
      "(113664,)\n",
      "(444, 444)\n",
      "0.3051704584300576\n",
      "(113664,)\n",
      "(444, 444)\n",
      "0.2336881876910018\n",
      "(113664,)\n",
      "(444, 444)\n",
      "0.09970591853386884\n",
      "(113664,)\n",
      "(444, 444)\n",
      "0.08921794466284769\n",
      "(113664,)\n",
      "(444, 444)\n",
      "0.07213248173927117\n",
      "(113664,)\n",
      "(444, 444)\n",
      "0.03503579010198492\n",
      "(113664,)\n",
      "(444, 444)\n",
      "0.016674926329522347\n",
      "(113664,)\n",
      "(444, 444)\n",
      "0.007821380387058404\n",
      "(113664,)\n",
      "(444, 444)\n",
      "0.008855090908289601\n",
      "(113664,)\n",
      "(444, 444)\n",
      "0.0054432701959687396\n",
      "(113664,)\n",
      "(444, 444)\n",
      "0.002368000570469723\n",
      "(113664,)\n",
      "(444, 444)\n",
      "0.001433340405964976\n",
      "(113664,)\n",
      "(444, 444)\n",
      "0.0010009389227897008\n",
      "(113664,)\n",
      "(444, 444)\n",
      "0.00028847513794987765\n",
      "(113664,)\n",
      "(444, 444)\n",
      "0.0001962005491265093\n",
      "(113664,)\n",
      "(444, 444)\n",
      "0.00010249505759213388\n",
      "(113664,)\n",
      "(444, 444)\n",
      "3.831675859650554e-05\n",
      "(113664,)\n",
      "(444, 444)\n",
      "1.4861870438065593e-05\n"
     ]
    }
   ],
   "source": [
    "res = scipy.optimize.minimize(lpca_loss, x0=factors, \n",
    "                              args=(-1 + 2*np.array(adj.todense()), rank), jac=True, method='L-BFGS-B',\n",
    "                              options={'maxiter':2000})"
   ]
  },
  {
   "cell_type": "code",
   "execution_count": 43,
   "metadata": {},
   "outputs": [
    {
     "data": {
      "text/plain": [
       "  message: CONVERGENCE: NORM OF PROJECTED GRADIENT <= PGTOL\n",
       "  success: True\n",
       "   status: 0\n",
       "      fun: 1.4861870438065593e-05\n",
       "        x: [-1.066e+00 -6.505e-01 ... -8.861e-01 -1.746e-01]\n",
       "      nit: 32\n",
       "      jac: [ 1.587e-08  1.020e-08 ...  4.336e-09  7.930e-09]\n",
       "     nfev: 39\n",
       "     njev: 39\n",
       " hess_inv: <113664x113664 LbfgsInvHessProduct with dtype=float64>"
      ]
     },
     "execution_count": 43,
     "metadata": {},
     "output_type": "execute_result"
    }
   ],
   "source": [
    "res"
   ]
  },
  {
   "cell_type": "code",
   "execution_count": 29,
   "metadata": {},
   "outputs": [
    {
     "name": "stdout",
     "output_type": "stream",
     "text": [
      "Frob norm error:  0.0\n"
     ]
    }
   ],
   "source": [
    "factors = res.x\n",
    "U = res.x[:n_row*rank].reshape(n_row, rank)\n",
    "V = res.x[n_row*rank:].reshape(rank, n_row)\n",
    "frob_error_norm = np.linalg.norm(clip_01(U@V) - adj) / sp.sparse.linalg.norm(adj)\n",
    "print(\"Frob norm error: \", frob_error_norm)"
   ]
  },
  {
   "cell_type": "code",
   "execution_count": 30,
   "metadata": {},
   "outputs": [],
   "source": [
    "from tSVD import error_func_frobenius"
   ]
  },
  {
   "cell_type": "code",
   "execution_count": 31,
   "metadata": {},
   "outputs": [
    {
     "data": {
      "text/plain": [
       "0.0"
      ]
     },
     "execution_count": 31,
     "metadata": {},
     "output_type": "execute_result"
    }
   ],
   "source": [
    "error_func_frobenius(adj.todense(), clip_01(U@V))"
   ]
  },
  {
   "cell_type": "code",
   "execution_count": 15,
   "metadata": {},
   "outputs": [
    {
     "data": {
      "text/plain": [
       "array([[0., 1., 0., ..., 0., 0., 0.],\n",
       "       [1., 0., 1., ..., 0., 0., 0.],\n",
       "       [0., 1., 0., ..., 0., 0., 0.],\n",
       "       ...,\n",
       "       [0., 0., 0., ..., 0., 0., 0.],\n",
       "       [0., 0., 0., ..., 0., 0., 1.],\n",
       "       [0., 0., 0., ..., 0., 1., 0.]], shape=(444, 444))"
      ]
     },
     "execution_count": 15,
     "metadata": {},
     "output_type": "execute_result"
    }
   ],
   "source": [
    "clip_01(U@V)"
   ]
  },
  {
   "cell_type": "code",
   "execution_count": 38,
   "metadata": {},
   "outputs": [],
   "source": [
    "data = {'U':U, 'V':V}\n",
    "scipy.io.savemat(factor_file_path, data)"
   ]
  },
  {
   "cell_type": "code",
   "execution_count": 39,
   "metadata": {},
   "outputs": [],
   "source": [
    "# generate a rank k TSVD factorization of a small sparse matrix adj\n",
    "def factor_TSVD(adj, k):\n",
    "    w, v = np.linalg.eigh(np.array(adj.todense()))\n",
    "    order = np.argsort(np.abs(w))[::-1]\n",
    "    w = w[order[:k]]\n",
    "    v = v[:,order[:k]]\n",
    "    U_tsvd, V_tsvd = v * np.sqrt(np.abs(w))[None,:], (np.sign(w)*np.sqrt(np.abs(w)))[:,None] * v.T\n",
    "    return U_tsvd, V_tsvd\n",
    "U_tsvd, V_tsvd = factor_TSVD(adj, rank)"
   ]
  },
  {
   "cell_type": "code",
   "execution_count": 40,
   "metadata": {},
   "outputs": [
    {
     "name": "stdout",
     "output_type": "stream",
     "text": [
      "1.0102797035210955e-08\n",
      "0.9727326554770129\n"
     ]
    }
   ],
   "source": [
    "# print the Frobenius errors of the LPCA and TSVD reconstructions, respectively \n",
    "print( np.linalg.norm(adj.todense() - expit(U@V)) / sp.sparse.linalg.norm(adj) )\n",
    "print( np.linalg.norm(adj.todense() - clip_01(U_tsvd@V_tsvd)) / sp.sparse.linalg.norm(adj) )"
   ]
  },
  {
   "cell_type": "code",
   "execution_count": 41,
   "metadata": {},
   "outputs": [
    {
     "name": "stdout",
     "output_type": "stream",
     "text": [
      "1.0102797035210955e-08\n",
      "0.9727326554770129\n"
     ]
    }
   ],
   "source": [
    "# print the Frobenius errors of the LPCA and TSVD reconstructions, respectively \n",
    "print( np.linalg.norm(adj.todense() - expit(U@V)) / sp.sparse.linalg.norm(adj) )\n",
    "print( np.linalg.norm(adj.todense() - clip_01(U_tsvd@V_tsvd)) / sp.sparse.linalg.norm(adj) )"
   ]
  },
  {
   "cell_type": "code",
   "execution_count": null,
   "metadata": {},
   "outputs": [],
   "source": []
  }
 ],
 "metadata": {
  "kernelspec": {
   "display_name": "thesis",
   "language": "python",
   "name": "python3"
  },
  "language_info": {
   "codemirror_mode": {
    "name": "ipython",
    "version": 3
   },
   "file_extension": ".py",
   "mimetype": "text/x-python",
   "name": "python",
   "nbconvert_exporter": "python",
   "pygments_lexer": "ipython3",
   "version": "3.10.16"
  }
 },
 "nbformat": 4,
 "nbformat_minor": 2
}
